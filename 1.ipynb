{
  "nbformat": 4,
  "nbformat_minor": 0,
  "metadata": {
    "colab": {
      "provenance": [],
      "authorship_tag": "ABX9TyNs99OmAvK15gTGK47/ceY/",
      "include_colab_link": true
    },
    "kernelspec": {
      "name": "python3",
      "display_name": "Python 3"
    },
    "language_info": {
      "name": "python"
    }
  },
  "cells": [
    {
      "cell_type": "markdown",
      "metadata": {
        "id": "view-in-github",
        "colab_type": "text"
      },
      "source": [
        "<a href=\"https://colab.research.google.com/github/Polinkaaa003/Telegram-bot-/blob/main/1.ipynb\" target=\"_parent\"><img src=\"https://colab.research.google.com/assets/colab-badge.svg\" alt=\"Open In Colab\"/></a>"
      ]
    },
    {
      "cell_type": "markdown",
      "source": [
        "Задача №1"
      ],
      "metadata": {
        "id": "mIv3WeV4eBwc"
      }
    },
    {
      "cell_type": "code",
      "execution_count": null,
      "metadata": {
        "colab": {
          "base_uri": "https://localhost:8080/"
        },
        "id": "vIM8xfBgdd-X",
        "outputId": "92d4cb5e-b519-4b1d-993b-06ccc8656e28"
      },
      "outputs": [
        {
          "output_type": "stream",
          "name": "stdout",
          "text": [
            "Аббревиатуры: ['МИД РФ', 'NASA ESA', 'ООН ЮНЕСКО', 'ООО РОМАШКА', 'НИИ МЕХАНИКИ', 'НАТО', 'ЦУМ', 'ИП ПЕТРОВ', 'ESA', 'МИД РФ']\n"
          ]
        }
      ],
      "source": [
        "import re\n",
        "\n",
        "text = \"Сегодня в пресс-релизе МИД РФ и NASA ESA, а также ООН ЮНЕСКО, объявили о совместном пилотном проекте. Во встрече в Берлине приняли участие Анна Петрова и Михаил Иванов, а координатором выступил Виктор Сергеев. Компания ООО РОМАШКА и НИИ МЕХАНИКИ обязались подготовить отчёт до 05.03.2007, тогда как рабочую сессию перенесли на 7/11/07; резервная дата указана как 12-04-07. Кроме того, НАТО и ЦУМ поддержали информационную кампанию, ИП ПЕТРОВ выступит подрядчиком по логистике, а консультантом станет Екатерина Смирнова. Вчера я обсуждал детали с Иваном в кафе на набережной Волги и отправил письмо в адрес ESA и МИД РФ.\"\n",
        "def find_abbreviations(text):\n",
        "    pattern = r'\\b[A-ZА-Я]{2,}(?:\\s+[A-ZА-Я]{2,})*\\b'\n",
        "    abbreviations = re.findall(pattern, text)\n",
        "    result = []\n",
        "    for abbr in abbreviations:\n",
        "        if ' ' not in abbr and len(abbr) > 4:\n",
        "            continue\n",
        "        result.append(abbr)\n",
        "    return result\n",
        "abbreviations = find_abbreviations(text)\n",
        "print(\"Аббревиатуры:\", abbreviations)"
      ]
    },
    {
      "cell_type": "markdown",
      "source": [
        "Задача №2"
      ],
      "metadata": {
        "id": "sMtytx_hecqk"
      }
    },
    {
      "cell_type": "code",
      "source": [
        "def find_dates_and_months(text):\n",
        "    pattern = r'\\b(\\d{1,2})[./-](\\d{1,2})[./-](\\d{2,4})\\b'\n",
        "    dates = re.findall(pattern, text)\n",
        "    months = []\n",
        "    for day, month, year in dates:\n",
        "        months.append(int(month))\n",
        "    return months\n",
        "months = find_dates_and_months(text)\n",
        "print(\"Месяцы из дат:\", months)"
      ],
      "metadata": {
        "colab": {
          "base_uri": "https://localhost:8080/"
        },
        "id": "nBDJtOD2eeNS",
        "outputId": "1009f908-0595-4694-b6cf-6d8122b84cfc"
      },
      "execution_count": null,
      "outputs": [
        {
          "output_type": "stream",
          "name": "stdout",
          "text": [
            "Месяцы из дат: [3, 11, 4]\n"
          ]
        }
      ]
    },
    {
      "cell_type": "markdown",
      "source": [
        "Задача №3"
      ],
      "metadata": {
        "id": "J9OK_aLUeqqs"
      }
    },
    {
      "cell_type": "code",
      "source": [
        "def find_proper_names(text):\n",
        "    sentences = re.split(r'[.!?]+', text)\n",
        "    proper_names = []\n",
        "    for sentence in sentences:\n",
        "        sentence = sentence.strip()\n",
        "        if not sentence:\n",
        "            continue\n",
        "        words = re.findall(r'\\b\\w+\\b', sentence)\n",
        "        for i, word in enumerate(words):\n",
        "            if i == 0:\n",
        "                continue\n",
        "            if word[0].isupper() and word.isalpha():\n",
        "                proper_names.append(word)\n",
        "    return proper_names\n",
        "proper_names = find_proper_names(text)\n",
        "print(\"Имена собственные:\", proper_names)"
      ],
      "metadata": {
        "colab": {
          "base_uri": "https://localhost:8080/"
        },
        "id": "jNqGsAcOetkm",
        "outputId": "b8d8efa2-a90e-43b1-93da-846438fac239"
      },
      "execution_count": null,
      "outputs": [
        {
          "output_type": "stream",
          "name": "stdout",
          "text": [
            "Имена собственные: ['МИД', 'РФ', 'NASA', 'ESA', 'ООН', 'ЮНЕСКО', 'Берлине', 'Анна', 'Петрова', 'Михаил', 'Иванов', 'Виктор', 'Сергеев', 'ООО', 'РОМАШКА', 'НИИ', 'МЕХАНИКИ', 'НАТО', 'ЦУМ', 'ИП', 'ПЕТРОВ', 'Екатерина', 'Смирнова', 'Иваном', 'Волги', 'ESA', 'МИД', 'РФ']\n"
          ]
        }
      ]
    },
    {
      "cell_type": "markdown",
      "source": [
        "Задача №5"
      ],
      "metadata": {
        "id": "yj8mVWGTe-Yz"
      }
    },
    {
      "cell_type": "code",
      "source": [
        "import re\n",
        "\n",
        "list_of_strings = [\"ПриветМир\", \"abcXYZ\", \"МарияАнтуанетта\", \"über\", \"abc-xyz\", \"abc_123\", \"хлеб\", \"арбузб\", \"арбузБ\", \"баб\", \"ббабб\", \"б\", \"бббаббаб\", \"ба\", \"аб\", \"аба\", \"а\", \"Ваня Ваня пришёл вовремя\", \"что что это же очевидно бабушка\", \"мы просто говорим тут\", \"123 это строка и заканщивается словом финал\", \"+42 пример строки с числом в начале и словом на конце слово\", \"7 а тут в конце восклицание!\", \"В пещере цвет выцвел, и ворон каркнул громко.\", \"цветы не считаются, зато ворон тут есть.\", \"This is fine.\", \"The bag is empty.\", \"'Hello', she said softly.\", \"(Well) this is fine.\", \"It's nice.\", \"Re-enter the room.\"]\n",
        "only_letters = [s for s in list_of_strings if re.fullmatch(r'^[a-zA-Zа-яА-Я]+$', s)]\n",
        "print(\"Только буквы:\", only_letters)\n",
        "lower_ending_b = [s for s in list_of_strings if re.fullmatch(r'^[a-zа-я]*б$', s)]\n",
        "print(\"Строчные, оканчивающиеся на 'б':\", lower_ending_b)\n",
        "pattern_ab = [s for s in list_of_strings if re.fullmatch(r'^б*(аб)*б*$', s)]\n",
        "print(\"Паттерн 'баб':\", pattern_ab)"
      ],
      "metadata": {
        "colab": {
          "base_uri": "https://localhost:8080/"
        },
        "id": "LrqTxFD-fKAM",
        "outputId": "49897179-fe45-4b49-bd63-434a48865482"
      },
      "execution_count": null,
      "outputs": [
        {
          "output_type": "stream",
          "name": "stdout",
          "text": [
            "Только буквы: ['ПриветМир', 'abcXYZ', 'МарияАнтуанетта', 'хлеб', 'арбузб', 'арбузБ', 'баб', 'ббабб', 'б', 'бббаббаб', 'ба', 'аб', 'аба', 'а']\n",
            "Строчные, оканчивающиеся на 'б': ['хлеб', 'арбузб', 'баб', 'ббабб', 'б', 'бббаббаб', 'аб']\n",
            "Паттерн 'баб': ['баб', 'ббабб', 'б', 'аб']\n"
          ]
        }
      ]
    },
    {
      "cell_type": "markdown",
      "source": [
        "Задача №6"
      ],
      "metadata": {
        "id": "n-nn0VD1fXCs"
      }
    },
    {
      "cell_type": "code",
      "source": [
        "double_words = [s for s in list_of_strings if re.search(r'\\b(\\w+)\\s+\\1\\b', s)]\n",
        "print(\"Повторяющиеся слова:\", double_words)\n",
        "number_start_word_end = [s for s in list_of_strings if re.search(r'^\\d+\\b.*\\b[a-zA-Zа-яА-Я]+\\W*$', s)]\n",
        "print(\"Число → слово:\", number_start_word_end)\n",
        "color_raven = [s for s in list_of_strings if re.search(r'\\bцвет\\b', s) and re.search(r'\\bворон\\b', s)]\n",
        "print(\"'цвет' и 'ворон':\", color_raven)\n",
        "def move_first_word(sentence):\n",
        "    pattern = r'^([A-Za-z\\']+)(.*?)([.!?]?)$'\n",
        "    match = re.match(pattern, sentence)\n",
        "    if match:\n",
        "        first_word, rest, punctuation = match.groups()\n",
        "        new_sentence = f\"{rest.strip()} {first_word.lower()}{punctuation}\"\n",
        "        return new_sentence.capitalize()\n",
        "    return sentence\n",
        "english_sentences = [s for s in list_of_strings if re.match(r'^[A-Z]', s)]\n",
        "for sent in english_sentences:\n",
        "    print(f\"Исходно: {sent}\")\n",
        "    print(f\"После:   {move_first_word(sent)}\\n\")"
      ],
      "metadata": {
        "colab": {
          "base_uri": "https://localhost:8080/"
        },
        "id": "-8Gt2e8kfgMO",
        "outputId": "81541e30-0f17-4d93-eb84-68d6575f8c33"
      },
      "execution_count": null,
      "outputs": [
        {
          "output_type": "stream",
          "name": "stdout",
          "text": [
            "Повторяющиеся слова: ['Ваня Ваня пришёл вовремя', 'что что это же очевидно бабушка']\n",
            "Число → слово: ['123 это строка и заканщивается словом финал', '7 а тут в конце восклицание!']\n",
            "'цвет' и 'ворон': ['В пещере цвет выцвел, и ворон каркнул громко.']\n",
            "Исходно: This is fine.\n",
            "После:   Is fine this.\n",
            "\n",
            "Исходно: The bag is empty.\n",
            "После:   Bag is empty the.\n",
            "\n",
            "Исходно: It's nice.\n",
            "После:   Nice it's.\n",
            "\n",
            "Исходно: Re-enter the room.\n",
            "После:   -enter the room re.\n",
            "\n"
          ]
        }
      ]
    },
    {
      "cell_type": "markdown",
      "source": [
        "Задача №7"
      ],
      "metadata": {
        "id": "-CYaytPMftr-"
      }
    },
    {
      "cell_type": "code",
      "source": [
        "import re\n",
        "import random\n",
        "\n",
        "class RussianEliza:\n",
        "    def __init__(self):\n",
        "        self.rules = [\n",
        "            (r'.*\\b(?:я|мне)\\s+(грустно|плохо|печально|тоскливо|скучно)\\b.*',\n",
        "             [\"ПОЧЕМУ ТЕБЕ {verb}?\", \"СКОЛЬКО ВРЕМЕНИ ТЕБЕ УЖЕ {verb}?\"]),\n",
        "            (r'.*\\b(всегда|никогда|постоянно)\\b.*',\n",
        "             [\"МОЖЕШЬ ПРИВЕСТИ КОНКРЕТНЫЙ ПРИМЕР?\", \"ПОЧЕМУ ТЫ ДУМАЕШЬ, ЧТО ЭТО {match}?\"]),\n",
        "            (r'.*\\bмне\\s+нужно\\s+(.+)',\n",
        "             [\"ПОЧЕМУ ТЕБЕ НУЖНО {match}?\"]),\n",
        "            (r'.*\\bя\\s+хочу\\s+(.+)',\n",
        "             [\"ПОЧЕМУ ТЫ ХОЧЕШЬ {match}?\", \"ЧТО ДАСТ ТЕБЕ {match}?\"]),\n",
        "            (r'.*\\bпотому что\\s+(.+)',\n",
        "             [\"ЭТО ИСТИННАЯ ПРИЧИНА?\", \"ТЫ УВЕРЕН, ЧТО ИМЕННО ПОЭТОМУ?\"]),\n",
        "            (r'.*\\b(мама|папа|родители|муж|жена|парень|девушка|друг|подруга)\\b.*',\n",
        "             [\"РАССКАЖИ ПОДРОБНЕЕ О СВОЕМ {match}.\", \"КАК ТЫ ОТНОСИШЬСЯ К СВОЕМУ {match}?\"]),\n",
        "            (r'.*\\bя\\s+чувствую\\s+(.+)',\n",
        "             [\"ПОЧЕМУ ТЫ ЧУВСТВУЕШЬ {match}?\"]),\n",
        "        ]\n",
        "    def reflect_pronouns(self, text):\n",
        "        reflections = {\n",
        "            r'\\bя\\b': 'ты',\n",
        "            r'\\bменя\\b': 'тебя',\n",
        "            r'\\bмне\\b': 'тебе',\n",
        "            r'\\bмой\\b': 'твой',\n",
        "            r'\\bмоя\\b': 'твоя',\n",
        "            r'\\bмоё\\b': 'твоё',\n",
        "            r'\\bмои\\b': 'твои',\n",
        "            r'\\bмной\\b': 'тобой',\n",
        "        }\n",
        "\n",
        "        result = text.lower()\n",
        "        for pattern, replacement in reflections.items():\n",
        "            result = re.sub(pattern, replacement, result)\n",
        "        return result.upper()\n",
        "    def respond(self, user_input):\n",
        "        input_text = user_input.upper().strip()\n",
        "        for pattern, responses in self.rules:\n",
        "            match = re.match(pattern, input_text, re.IGNORECASE)\n",
        "            if match:\n",
        "                groups = match.groups()\n",
        "                response = random.choice(responses)\n",
        "                if '{match}' in response:\n",
        "                    response = response.replace('{match}', groups[-1] if groups else 'ЭТО')\n",
        "                if '{verb}' in response and groups:\n",
        "                    response = response.replace('{verb}', groups[0])\n",
        "                return response\n",
        "        reflected = self.reflect_pronouns(user_input)\n",
        "        if reflected != user_input.upper():\n",
        "            return reflected + \"?\"\n",
        "        else:\n",
        "            return random.choice([\"ПРОДОЛЖАЙ, ПОЖАЛУЙСТА.\", \"РАССКАЖИ ПОДРОБНЕЕ.\", \"ПОНЯТНО.\"])\n",
        "eliza = RussianEliza()\n",
        "test_phrases = [\n",
        "    \"Мне грустно сегодня\",\n",
        "    \"Я всегда проигрываю\",\n",
        "    \"Мне нужно больше денег\",\n",
        "    \"Я хочу путешествовать\",\n",
        "    \"Я опоздал потому что проспал\",\n",
        "    \"Моя мама волнуется за меня\",\n",
        "    \"Я чувствую себя одиноко\",\n",
        "    \"Погода сегодня хорошая\"\n",
        "]\n",
        "\n",
        "print(\"=== ТЕСТ РУССКОГО ELIZA ===\")\n",
        "for phrase in test_phrases:\n",
        "    print(f\"User: {phrase}\")\n",
        "    print(f\"ELIZA: {eliza.respond(phrase)}\\n\")"
      ],
      "metadata": {
        "colab": {
          "base_uri": "https://localhost:8080/"
        },
        "id": "C5YPO5ouf39L",
        "outputId": "bbbb51ca-fb7a-4c11-c480-d2a55088a649"
      },
      "execution_count": null,
      "outputs": [
        {
          "output_type": "stream",
          "name": "stdout",
          "text": [
            "=== ТЕСТ РУССКОГО ELIZA ===\n",
            "User: Мне грустно сегодня\n",
            "ELIZA: ПОЧЕМУ ТЕБЕ ГРУСТНО?\n",
            "\n",
            "User: Я всегда проигрываю\n",
            "ELIZA: МОЖЕШЬ ПРИВЕСТИ КОНКРЕТНЫЙ ПРИМЕР?\n",
            "\n",
            "User: Мне нужно больше денег\n",
            "ELIZA: ПОЧЕМУ ТЕБЕ НУЖНО БОЛЬШЕ ДЕНЕГ?\n",
            "\n",
            "User: Я хочу путешествовать\n",
            "ELIZA: ЧТО ДАСТ ТЕБЕ ПУТЕШЕСТВОВАТЬ?\n",
            "\n",
            "User: Я опоздал потому что проспал\n",
            "ELIZA: ТЫ УВЕРЕН, ЧТО ИМЕННО ПОЭТОМУ?\n",
            "\n",
            "User: Моя мама волнуется за меня\n",
            "ELIZA: КАК ТЫ ОТНОСИШЬСЯ К СВОЕМУ МАМА?\n",
            "\n",
            "User: Я чувствую себя одиноко\n",
            "ELIZA: ПОЧЕМУ ТЫ ЧУВСТВУЕШЬ СЕБЯ ОДИНОКО?\n",
            "\n",
            "User: Погода сегодня хорошая\n",
            "ELIZA: РАССКАЖИ ПОДРОБНЕЕ.\n",
            "\n"
          ]
        }
      ]
    }
  ]
}